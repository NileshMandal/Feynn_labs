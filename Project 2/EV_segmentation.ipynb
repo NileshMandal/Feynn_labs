{
  "cells": [
    {
      "cell_type": "code",
      "execution_count": null,
      "id": "1f95bea2",
      "metadata": {
        "id": "1f95bea2"
      },
      "outputs": [],
      "source": [
        "import pandas as pd\n",
        "import numpy as np\n",
        "from sklearn.model_selection import train_test_split, GridSearchCV\n",
        "from sklearn.metrics import accuracy_score, confusion_matrix, roc_curve, roc_auc_score, classification_report\n",
        "import matplotlib.pyplot as plt\n",
        "%matplotlib inline\n",
        "import seaborn as sns\n",
        "import pickle\n",
        "\n",
        "\n",
        "\n",
        "import warnings\n",
        "warnings.filterwarnings('ignore')\n"
      ]
    },
    {
      "cell_type": "code",
      "execution_count": null,
      "id": "c31eff8f",
      "metadata": {
        "id": "c31eff8f"
      },
      "outputs": [],
      "source": [
        "import pandas as pd"
      ]
    },
    {
      "cell_type": "code",
      "source": [
        "from google.colab import files\n",
        "data_to_load = files.upload()"
      ],
      "metadata": {
        "colab": {
          "base_uri": "https://localhost:8080/",
          "height": 73
        },
        "id": "ca4hIf2iLzp-",
        "outputId": "5373c1b7-d615-4bf8-f5d2-ea286198992a"
      },
      "id": "ca4hIf2iLzp-",
      "execution_count": null,
      "outputs": [
        {
          "output_type": "display_data",
          "data": {
            "text/plain": [
              "<IPython.core.display.HTML object>"
            ],
            "text/html": [
              "\n",
              "     <input type=\"file\" id=\"files-d3fc910f-a6ab-4e47-9a70-2896a3e7d3c3\" name=\"files[]\" multiple disabled\n",
              "        style=\"border:none\" />\n",
              "     <output id=\"result-d3fc910f-a6ab-4e47-9a70-2896a3e7d3c3\">\n",
              "      Upload widget is only available when the cell has been executed in the\n",
              "      current browser session. Please rerun this cell to enable.\n",
              "      </output>\n",
              "      <script>// Copyright 2017 Google LLC\n",
              "//\n",
              "// Licensed under the Apache License, Version 2.0 (the \"License\");\n",
              "// you may not use this file except in compliance with the License.\n",
              "// You may obtain a copy of the License at\n",
              "//\n",
              "//      http://www.apache.org/licenses/LICENSE-2.0\n",
              "//\n",
              "// Unless required by applicable law or agreed to in writing, software\n",
              "// distributed under the License is distributed on an \"AS IS\" BASIS,\n",
              "// WITHOUT WARRANTIES OR CONDITIONS OF ANY KIND, either express or implied.\n",
              "// See the License for the specific language governing permissions and\n",
              "// limitations under the License.\n",
              "\n",
              "/**\n",
              " * @fileoverview Helpers for google.colab Python module.\n",
              " */\n",
              "(function(scope) {\n",
              "function span(text, styleAttributes = {}) {\n",
              "  const element = document.createElement('span');\n",
              "  element.textContent = text;\n",
              "  for (const key of Object.keys(styleAttributes)) {\n",
              "    element.style[key] = styleAttributes[key];\n",
              "  }\n",
              "  return element;\n",
              "}\n",
              "\n",
              "// Max number of bytes which will be uploaded at a time.\n",
              "const MAX_PAYLOAD_SIZE = 100 * 1024;\n",
              "\n",
              "function _uploadFiles(inputId, outputId) {\n",
              "  const steps = uploadFilesStep(inputId, outputId);\n",
              "  const outputElement = document.getElementById(outputId);\n",
              "  // Cache steps on the outputElement to make it available for the next call\n",
              "  // to uploadFilesContinue from Python.\n",
              "  outputElement.steps = steps;\n",
              "\n",
              "  return _uploadFilesContinue(outputId);\n",
              "}\n",
              "\n",
              "// This is roughly an async generator (not supported in the browser yet),\n",
              "// where there are multiple asynchronous steps and the Python side is going\n",
              "// to poll for completion of each step.\n",
              "// This uses a Promise to block the python side on completion of each step,\n",
              "// then passes the result of the previous step as the input to the next step.\n",
              "function _uploadFilesContinue(outputId) {\n",
              "  const outputElement = document.getElementById(outputId);\n",
              "  const steps = outputElement.steps;\n",
              "\n",
              "  const next = steps.next(outputElement.lastPromiseValue);\n",
              "  return Promise.resolve(next.value.promise).then((value) => {\n",
              "    // Cache the last promise value to make it available to the next\n",
              "    // step of the generator.\n",
              "    outputElement.lastPromiseValue = value;\n",
              "    return next.value.response;\n",
              "  });\n",
              "}\n",
              "\n",
              "/**\n",
              " * Generator function which is called between each async step of the upload\n",
              " * process.\n",
              " * @param {string} inputId Element ID of the input file picker element.\n",
              " * @param {string} outputId Element ID of the output display.\n",
              " * @return {!Iterable<!Object>} Iterable of next steps.\n",
              " */\n",
              "function* uploadFilesStep(inputId, outputId) {\n",
              "  const inputElement = document.getElementById(inputId);\n",
              "  inputElement.disabled = false;\n",
              "\n",
              "  const outputElement = document.getElementById(outputId);\n",
              "  outputElement.innerHTML = '';\n",
              "\n",
              "  const pickedPromise = new Promise((resolve) => {\n",
              "    inputElement.addEventListener('change', (e) => {\n",
              "      resolve(e.target.files);\n",
              "    });\n",
              "  });\n",
              "\n",
              "  const cancel = document.createElement('button');\n",
              "  inputElement.parentElement.appendChild(cancel);\n",
              "  cancel.textContent = 'Cancel upload';\n",
              "  const cancelPromise = new Promise((resolve) => {\n",
              "    cancel.onclick = () => {\n",
              "      resolve(null);\n",
              "    };\n",
              "  });\n",
              "\n",
              "  // Wait for the user to pick the files.\n",
              "  const files = yield {\n",
              "    promise: Promise.race([pickedPromise, cancelPromise]),\n",
              "    response: {\n",
              "      action: 'starting',\n",
              "    }\n",
              "  };\n",
              "\n",
              "  cancel.remove();\n",
              "\n",
              "  // Disable the input element since further picks are not allowed.\n",
              "  inputElement.disabled = true;\n",
              "\n",
              "  if (!files) {\n",
              "    return {\n",
              "      response: {\n",
              "        action: 'complete',\n",
              "      }\n",
              "    };\n",
              "  }\n",
              "\n",
              "  for (const file of files) {\n",
              "    const li = document.createElement('li');\n",
              "    li.append(span(file.name, {fontWeight: 'bold'}));\n",
              "    li.append(span(\n",
              "        `(${file.type || 'n/a'}) - ${file.size} bytes, ` +\n",
              "        `last modified: ${\n",
              "            file.lastModifiedDate ? file.lastModifiedDate.toLocaleDateString() :\n",
              "                                    'n/a'} - `));\n",
              "    const percent = span('0% done');\n",
              "    li.appendChild(percent);\n",
              "\n",
              "    outputElement.appendChild(li);\n",
              "\n",
              "    const fileDataPromise = new Promise((resolve) => {\n",
              "      const reader = new FileReader();\n",
              "      reader.onload = (e) => {\n",
              "        resolve(e.target.result);\n",
              "      };\n",
              "      reader.readAsArrayBuffer(file);\n",
              "    });\n",
              "    // Wait for the data to be ready.\n",
              "    let fileData = yield {\n",
              "      promise: fileDataPromise,\n",
              "      response: {\n",
              "        action: 'continue',\n",
              "      }\n",
              "    };\n",
              "\n",
              "    // Use a chunked sending to avoid message size limits. See b/62115660.\n",
              "    let position = 0;\n",
              "    do {\n",
              "      const length = Math.min(fileData.byteLength - position, MAX_PAYLOAD_SIZE);\n",
              "      const chunk = new Uint8Array(fileData, position, length);\n",
              "      position += length;\n",
              "\n",
              "      const base64 = btoa(String.fromCharCode.apply(null, chunk));\n",
              "      yield {\n",
              "        response: {\n",
              "          action: 'append',\n",
              "          file: file.name,\n",
              "          data: base64,\n",
              "        },\n",
              "      };\n",
              "\n",
              "      let percentDone = fileData.byteLength === 0 ?\n",
              "          100 :\n",
              "          Math.round((position / fileData.byteLength) * 100);\n",
              "      percent.textContent = `${percentDone}% done`;\n",
              "\n",
              "    } while (position < fileData.byteLength);\n",
              "  }\n",
              "\n",
              "  // All done.\n",
              "  yield {\n",
              "    response: {\n",
              "      action: 'complete',\n",
              "    }\n",
              "  };\n",
              "}\n",
              "\n",
              "scope.google = scope.google || {};\n",
              "scope.google.colab = scope.google.colab || {};\n",
              "scope.google.colab._files = {\n",
              "  _uploadFiles,\n",
              "  _uploadFilesContinue,\n",
              "};\n",
              "})(self);\n",
              "</script> "
            ]
          },
          "metadata": {}
        },
        {
          "output_type": "stream",
          "name": "stdout",
          "text": [
            "Saving EC data.csv to EC data.csv\n"
          ]
        }
      ]
    },
    {
      "cell_type": "code",
      "source": [
        "import io\n",
        "df = pd.read_csv(io.BytesIO(data_to_load['EC data.csv']))"
      ],
      "metadata": {
        "id": "z1M00wWIL4ZJ"
      },
      "id": "z1M00wWIL4ZJ",
      "execution_count": null,
      "outputs": []
    },
    {
      "cell_type": "code",
      "execution_count": null,
      "id": "fbbd3ed3",
      "metadata": {
        "id": "fbbd3ed3",
        "outputId": "d5585d36-ba0e-4f78-f41c-0718286aa72a",
        "colab": {
          "base_uri": "https://localhost:8080/",
          "height": 389
        }
      },
      "outputs": [
        {
          "output_type": "execute_result",
          "data": {
            "text/plain": [
              "         Brand                          Model  AccelSec  TopSpeed_KmH  \\\n",
              "0       Tesla   Model 3 Long Range Dual Motor       4.6           233   \n",
              "1  Volkswagen                       ID.3 Pure      10.0           160   \n",
              "2    Polestar                               2       4.7           210   \n",
              "3         BMW                            iX3        6.8           180   \n",
              "4       Honda                              e        9.5           145   \n",
              "\n",
              "   Range_Km  Efficiency_WhKm  FastCharge_KmH RapidCharge PowerTrain  \\\n",
              "0       450              161             940         Yes        AWD   \n",
              "1       270              167             250         Yes        RWD   \n",
              "2       400              181             620         Yes        AWD   \n",
              "3       360              206             560         Yes        RWD   \n",
              "4       170              168             190         Yes        RWD   \n",
              "\n",
              "     PlugType  BodyStyle Segment  Seats  PriceEuro  \n",
              "0  Type 2 CCS      Sedan       D      5      55480  \n",
              "1  Type 2 CCS  Hatchback       C      5      30000  \n",
              "2  Type 2 CCS   Liftback       D      5      56440  \n",
              "3  Type 2 CCS        SUV       D      5      68040  \n",
              "4  Type 2 CCS  Hatchback       B      4      32997  "
            ],
            "text/html": [
              "\n",
              "  <div id=\"df-2aa129bc-57cf-494f-a93a-c1d188628066\">\n",
              "    <div class=\"colab-df-container\">\n",
              "      <div>\n",
              "<style scoped>\n",
              "    .dataframe tbody tr th:only-of-type {\n",
              "        vertical-align: middle;\n",
              "    }\n",
              "\n",
              "    .dataframe tbody tr th {\n",
              "        vertical-align: top;\n",
              "    }\n",
              "\n",
              "    .dataframe thead th {\n",
              "        text-align: right;\n",
              "    }\n",
              "</style>\n",
              "<table border=\"1\" class=\"dataframe\">\n",
              "  <thead>\n",
              "    <tr style=\"text-align: right;\">\n",
              "      <th></th>\n",
              "      <th>Brand</th>\n",
              "      <th>Model</th>\n",
              "      <th>AccelSec</th>\n",
              "      <th>TopSpeed_KmH</th>\n",
              "      <th>Range_Km</th>\n",
              "      <th>Efficiency_WhKm</th>\n",
              "      <th>FastCharge_KmH</th>\n",
              "      <th>RapidCharge</th>\n",
              "      <th>PowerTrain</th>\n",
              "      <th>PlugType</th>\n",
              "      <th>BodyStyle</th>\n",
              "      <th>Segment</th>\n",
              "      <th>Seats</th>\n",
              "      <th>PriceEuro</th>\n",
              "    </tr>\n",
              "  </thead>\n",
              "  <tbody>\n",
              "    <tr>\n",
              "      <th>0</th>\n",
              "      <td>Tesla</td>\n",
              "      <td>Model 3 Long Range Dual Motor</td>\n",
              "      <td>4.6</td>\n",
              "      <td>233</td>\n",
              "      <td>450</td>\n",
              "      <td>161</td>\n",
              "      <td>940</td>\n",
              "      <td>Yes</td>\n",
              "      <td>AWD</td>\n",
              "      <td>Type 2 CCS</td>\n",
              "      <td>Sedan</td>\n",
              "      <td>D</td>\n",
              "      <td>5</td>\n",
              "      <td>55480</td>\n",
              "    </tr>\n",
              "    <tr>\n",
              "      <th>1</th>\n",
              "      <td>Volkswagen</td>\n",
              "      <td>ID.3 Pure</td>\n",
              "      <td>10.0</td>\n",
              "      <td>160</td>\n",
              "      <td>270</td>\n",
              "      <td>167</td>\n",
              "      <td>250</td>\n",
              "      <td>Yes</td>\n",
              "      <td>RWD</td>\n",
              "      <td>Type 2 CCS</td>\n",
              "      <td>Hatchback</td>\n",
              "      <td>C</td>\n",
              "      <td>5</td>\n",
              "      <td>30000</td>\n",
              "    </tr>\n",
              "    <tr>\n",
              "      <th>2</th>\n",
              "      <td>Polestar</td>\n",
              "      <td>2</td>\n",
              "      <td>4.7</td>\n",
              "      <td>210</td>\n",
              "      <td>400</td>\n",
              "      <td>181</td>\n",
              "      <td>620</td>\n",
              "      <td>Yes</td>\n",
              "      <td>AWD</td>\n",
              "      <td>Type 2 CCS</td>\n",
              "      <td>Liftback</td>\n",
              "      <td>D</td>\n",
              "      <td>5</td>\n",
              "      <td>56440</td>\n",
              "    </tr>\n",
              "    <tr>\n",
              "      <th>3</th>\n",
              "      <td>BMW</td>\n",
              "      <td>iX3</td>\n",
              "      <td>6.8</td>\n",
              "      <td>180</td>\n",
              "      <td>360</td>\n",
              "      <td>206</td>\n",
              "      <td>560</td>\n",
              "      <td>Yes</td>\n",
              "      <td>RWD</td>\n",
              "      <td>Type 2 CCS</td>\n",
              "      <td>SUV</td>\n",
              "      <td>D</td>\n",
              "      <td>5</td>\n",
              "      <td>68040</td>\n",
              "    </tr>\n",
              "    <tr>\n",
              "      <th>4</th>\n",
              "      <td>Honda</td>\n",
              "      <td>e</td>\n",
              "      <td>9.5</td>\n",
              "      <td>145</td>\n",
              "      <td>170</td>\n",
              "      <td>168</td>\n",
              "      <td>190</td>\n",
              "      <td>Yes</td>\n",
              "      <td>RWD</td>\n",
              "      <td>Type 2 CCS</td>\n",
              "      <td>Hatchback</td>\n",
              "      <td>B</td>\n",
              "      <td>4</td>\n",
              "      <td>32997</td>\n",
              "    </tr>\n",
              "  </tbody>\n",
              "</table>\n",
              "</div>\n",
              "      <button class=\"colab-df-convert\" onclick=\"convertToInteractive('df-2aa129bc-57cf-494f-a93a-c1d188628066')\"\n",
              "              title=\"Convert this dataframe to an interactive table.\"\n",
              "              style=\"display:none;\">\n",
              "        \n",
              "  <svg xmlns=\"http://www.w3.org/2000/svg\" height=\"24px\"viewBox=\"0 0 24 24\"\n",
              "       width=\"24px\">\n",
              "    <path d=\"M0 0h24v24H0V0z\" fill=\"none\"/>\n",
              "    <path d=\"M18.56 5.44l.94 2.06.94-2.06 2.06-.94-2.06-.94-.94-2.06-.94 2.06-2.06.94zm-11 1L8.5 8.5l.94-2.06 2.06-.94-2.06-.94L8.5 2.5l-.94 2.06-2.06.94zm10 10l.94 2.06.94-2.06 2.06-.94-2.06-.94-.94-2.06-.94 2.06-2.06.94z\"/><path d=\"M17.41 7.96l-1.37-1.37c-.4-.4-.92-.59-1.43-.59-.52 0-1.04.2-1.43.59L10.3 9.45l-7.72 7.72c-.78.78-.78 2.05 0 2.83L4 21.41c.39.39.9.59 1.41.59.51 0 1.02-.2 1.41-.59l7.78-7.78 2.81-2.81c.8-.78.8-2.07 0-2.86zM5.41 20L4 18.59l7.72-7.72 1.47 1.35L5.41 20z\"/>\n",
              "  </svg>\n",
              "      </button>\n",
              "      \n",
              "  <style>\n",
              "    .colab-df-container {\n",
              "      display:flex;\n",
              "      flex-wrap:wrap;\n",
              "      gap: 12px;\n",
              "    }\n",
              "\n",
              "    .colab-df-convert {\n",
              "      background-color: #E8F0FE;\n",
              "      border: none;\n",
              "      border-radius: 50%;\n",
              "      cursor: pointer;\n",
              "      display: none;\n",
              "      fill: #1967D2;\n",
              "      height: 32px;\n",
              "      padding: 0 0 0 0;\n",
              "      width: 32px;\n",
              "    }\n",
              "\n",
              "    .colab-df-convert:hover {\n",
              "      background-color: #E2EBFA;\n",
              "      box-shadow: 0px 1px 2px rgba(60, 64, 67, 0.3), 0px 1px 3px 1px rgba(60, 64, 67, 0.15);\n",
              "      fill: #174EA6;\n",
              "    }\n",
              "\n",
              "    [theme=dark] .colab-df-convert {\n",
              "      background-color: #3B4455;\n",
              "      fill: #D2E3FC;\n",
              "    }\n",
              "\n",
              "    [theme=dark] .colab-df-convert:hover {\n",
              "      background-color: #434B5C;\n",
              "      box-shadow: 0px 1px 3px 1px rgba(0, 0, 0, 0.15);\n",
              "      filter: drop-shadow(0px 1px 2px rgba(0, 0, 0, 0.3));\n",
              "      fill: #FFFFFF;\n",
              "    }\n",
              "  </style>\n",
              "\n",
              "      <script>\n",
              "        const buttonEl =\n",
              "          document.querySelector('#df-2aa129bc-57cf-494f-a93a-c1d188628066 button.colab-df-convert');\n",
              "        buttonEl.style.display =\n",
              "          google.colab.kernel.accessAllowed ? 'block' : 'none';\n",
              "\n",
              "        async function convertToInteractive(key) {\n",
              "          const element = document.querySelector('#df-2aa129bc-57cf-494f-a93a-c1d188628066');\n",
              "          const dataTable =\n",
              "            await google.colab.kernel.invokeFunction('convertToInteractive',\n",
              "                                                     [key], {});\n",
              "          if (!dataTable) return;\n",
              "\n",
              "          const docLinkHtml = 'Like what you see? Visit the ' +\n",
              "            '<a target=\"_blank\" href=https://colab.research.google.com/notebooks/data_table.ipynb>data table notebook</a>'\n",
              "            + ' to learn more about interactive tables.';\n",
              "          element.innerHTML = '';\n",
              "          dataTable['output_type'] = 'display_data';\n",
              "          await google.colab.output.renderOutput(dataTable, element);\n",
              "          const docLink = document.createElement('div');\n",
              "          docLink.innerHTML = docLinkHtml;\n",
              "          element.appendChild(docLink);\n",
              "        }\n",
              "      </script>\n",
              "    </div>\n",
              "  </div>\n",
              "  "
            ]
          },
          "metadata": {},
          "execution_count": 23
        }
      ],
      "source": [
        "#df = pd.read_csv('ElectricCarData_Clean.csv')\n",
        "df.head()"
      ]
    },
    {
      "cell_type": "code",
      "execution_count": null,
      "id": "2fa7807f",
      "metadata": {
        "id": "2fa7807f",
        "outputId": "a80cefae-5584-4386-f996-1495df9ea19c",
        "colab": {
          "base_uri": "https://localhost:8080/"
        }
      },
      "outputs": [
        {
          "output_type": "execute_result",
          "data": {
            "text/plain": [
              "Index(['Brand', 'Model', 'AccelSec', 'TopSpeed_KmH', 'Range_Km',\n",
              "       'Efficiency_WhKm', 'FastCharge_KmH', 'RapidCharge', 'PowerTrain',\n",
              "       'PlugType', 'BodyStyle', 'Segment', 'Seats', 'PriceEuro'],\n",
              "      dtype='object')"
            ]
          },
          "metadata": {},
          "execution_count": 24
        }
      ],
      "source": [
        "df.columns"
      ]
    },
    {
      "cell_type": "code",
      "execution_count": null,
      "id": "82f11440",
      "metadata": {
        "id": "82f11440",
        "outputId": "c37fae9f-86ca-4ebe-fd3e-b7547045d051",
        "colab": {
          "base_uri": "https://localhost:8080/"
        }
      },
      "outputs": [
        {
          "output_type": "execute_result",
          "data": {
            "text/plain": [
              "(98, 14)"
            ]
          },
          "metadata": {},
          "execution_count": 25
        }
      ],
      "source": [
        "df.shape"
      ]
    },
    {
      "cell_type": "code",
      "execution_count": null,
      "id": "daa54afb",
      "metadata": {
        "id": "daa54afb",
        "outputId": "63694e84-45a4-4960-fdd2-7e6efa4e7fd7",
        "colab": {
          "base_uri": "https://localhost:8080/"
        }
      },
      "outputs": [
        {
          "output_type": "stream",
          "name": "stdout",
          "text": [
            "<class 'pandas.core.frame.DataFrame'>\n",
            "RangeIndex: 98 entries, 0 to 97\n",
            "Data columns (total 14 columns):\n",
            " #   Column           Non-Null Count  Dtype  \n",
            "---  ------           --------------  -----  \n",
            " 0   Brand            98 non-null     object \n",
            " 1   Model            98 non-null     object \n",
            " 2   AccelSec         98 non-null     float64\n",
            " 3   TopSpeed_KmH     98 non-null     int64  \n",
            " 4   Range_Km         98 non-null     int64  \n",
            " 5   Efficiency_WhKm  98 non-null     int64  \n",
            " 6   FastCharge_KmH   98 non-null     int64  \n",
            " 7   RapidCharge      98 non-null     object \n",
            " 8   PowerTrain       98 non-null     object \n",
            " 9   PlugType         98 non-null     object \n",
            " 10  BodyStyle        98 non-null     object \n",
            " 11  Segment          98 non-null     object \n",
            " 12  Seats            98 non-null     int64  \n",
            " 13  PriceEuro        98 non-null     int64  \n",
            "dtypes: float64(1), int64(6), object(7)\n",
            "memory usage: 10.8+ KB\n"
          ]
        }
      ],
      "source": [
        "df.info()"
      ]
    },
    {
      "cell_type": "code",
      "execution_count": null,
      "id": "90ba37ba",
      "metadata": {
        "id": "90ba37ba",
        "outputId": "f9cb9bde-42ae-44e7-d1f0-b1c846120e66",
        "colab": {
          "base_uri": "https://localhost:8080/"
        }
      },
      "outputs": [
        {
          "output_type": "execute_result",
          "data": {
            "text/plain": [
              "Brand              0\n",
              "Model              0\n",
              "AccelSec           0\n",
              "TopSpeed_KmH       0\n",
              "Range_Km           0\n",
              "Efficiency_WhKm    0\n",
              "FastCharge_KmH     0\n",
              "RapidCharge        0\n",
              "PowerTrain         0\n",
              "PlugType           0\n",
              "BodyStyle          0\n",
              "Segment            0\n",
              "Seats              0\n",
              "PriceEuro          0\n",
              "dtype: int64"
            ]
          },
          "metadata": {},
          "execution_count": 27
        }
      ],
      "source": [
        "df.isnull().sum()"
      ]
    },
    {
      "cell_type": "code",
      "execution_count": null,
      "id": "5358a96a",
      "metadata": {
        "id": "5358a96a",
        "outputId": "cd334ffd-f709-4e0d-804d-baab2c0ddaf2",
        "colab": {
          "base_uri": "https://localhost:8080/",
          "height": 510
        }
      },
      "outputs": [
        {
          "output_type": "execute_result",
          "data": {
            "text/plain": [
              "         Brand          Model   AccelSec  TopSpeed_KmH    Range_Km  \\\n",
              "count       98             98  98.000000     98.000000   98.000000   \n",
              "unique      32             97        NaN           NaN         NaN   \n",
              "top     Tesla   e-Soul 64 kWh        NaN           NaN         NaN   \n",
              "freq        13              2        NaN           NaN         NaN   \n",
              "mean       NaN            NaN   7.046939    181.653061  350.153061   \n",
              "std        NaN            NaN   2.483895     43.248527  118.217984   \n",
              "min        NaN            NaN   2.100000    123.000000  170.000000   \n",
              "25%        NaN            NaN   5.100000    150.000000  258.750000   \n",
              "50%        NaN            NaN   7.300000    167.000000  350.000000   \n",
              "75%        NaN            NaN   8.950000    200.000000  407.500000   \n",
              "max        NaN            NaN  14.000000    410.000000  970.000000   \n",
              "\n",
              "        Efficiency_WhKm  FastCharge_KmH RapidCharge PowerTrain    PlugType  \\\n",
              "count         98.000000       98.000000          98         98          98   \n",
              "unique              NaN             NaN           1          3           4   \n",
              "top                 NaN             NaN         Yes        AWD  Type 2 CCS   \n",
              "freq                NaN             NaN          98         41          90   \n",
              "mean         189.867347      456.734694         NaN        NaN         NaN   \n",
              "std           30.055837      201.262897         NaN        NaN         NaN   \n",
              "min          104.000000      170.000000         NaN        NaN         NaN   \n",
              "25%          168.000000      275.000000         NaN        NaN         NaN   \n",
              "50%          181.000000      440.000000         NaN        NaN         NaN   \n",
              "75%          206.000000      560.000000         NaN        NaN         NaN   \n",
              "max          273.000000      940.000000         NaN        NaN         NaN   \n",
              "\n",
              "       BodyStyle Segment      Seats      PriceEuro  \n",
              "count         98      98  98.000000      98.000000  \n",
              "unique         9       8        NaN            NaN  \n",
              "top          SUV       C        NaN            NaN  \n",
              "freq          45      30        NaN            NaN  \n",
              "mean         NaN     NaN   4.959184   57324.683673  \n",
              "std          NaN     NaN   0.687418   34288.246370  \n",
              "min          NaN     NaN   4.000000   20129.000000  \n",
              "25%          NaN     NaN   5.000000   35000.000000  \n",
              "50%          NaN     NaN   5.000000   45000.000000  \n",
              "75%          NaN     NaN   5.000000   65465.000000  \n",
              "max          NaN     NaN   7.000000  215000.000000  "
            ],
            "text/html": [
              "\n",
              "  <div id=\"df-908f6933-eb84-4986-adee-95df447e2c8a\">\n",
              "    <div class=\"colab-df-container\">\n",
              "      <div>\n",
              "<style scoped>\n",
              "    .dataframe tbody tr th:only-of-type {\n",
              "        vertical-align: middle;\n",
              "    }\n",
              "\n",
              "    .dataframe tbody tr th {\n",
              "        vertical-align: top;\n",
              "    }\n",
              "\n",
              "    .dataframe thead th {\n",
              "        text-align: right;\n",
              "    }\n",
              "</style>\n",
              "<table border=\"1\" class=\"dataframe\">\n",
              "  <thead>\n",
              "    <tr style=\"text-align: right;\">\n",
              "      <th></th>\n",
              "      <th>Brand</th>\n",
              "      <th>Model</th>\n",
              "      <th>AccelSec</th>\n",
              "      <th>TopSpeed_KmH</th>\n",
              "      <th>Range_Km</th>\n",
              "      <th>Efficiency_WhKm</th>\n",
              "      <th>FastCharge_KmH</th>\n",
              "      <th>RapidCharge</th>\n",
              "      <th>PowerTrain</th>\n",
              "      <th>PlugType</th>\n",
              "      <th>BodyStyle</th>\n",
              "      <th>Segment</th>\n",
              "      <th>Seats</th>\n",
              "      <th>PriceEuro</th>\n",
              "    </tr>\n",
              "  </thead>\n",
              "  <tbody>\n",
              "    <tr>\n",
              "      <th>count</th>\n",
              "      <td>98</td>\n",
              "      <td>98</td>\n",
              "      <td>98.000000</td>\n",
              "      <td>98.000000</td>\n",
              "      <td>98.000000</td>\n",
              "      <td>98.000000</td>\n",
              "      <td>98.000000</td>\n",
              "      <td>98</td>\n",
              "      <td>98</td>\n",
              "      <td>98</td>\n",
              "      <td>98</td>\n",
              "      <td>98</td>\n",
              "      <td>98.000000</td>\n",
              "      <td>98.000000</td>\n",
              "    </tr>\n",
              "    <tr>\n",
              "      <th>unique</th>\n",
              "      <td>32</td>\n",
              "      <td>97</td>\n",
              "      <td>NaN</td>\n",
              "      <td>NaN</td>\n",
              "      <td>NaN</td>\n",
              "      <td>NaN</td>\n",
              "      <td>NaN</td>\n",
              "      <td>1</td>\n",
              "      <td>3</td>\n",
              "      <td>4</td>\n",
              "      <td>9</td>\n",
              "      <td>8</td>\n",
              "      <td>NaN</td>\n",
              "      <td>NaN</td>\n",
              "    </tr>\n",
              "    <tr>\n",
              "      <th>top</th>\n",
              "      <td>Tesla</td>\n",
              "      <td>e-Soul 64 kWh</td>\n",
              "      <td>NaN</td>\n",
              "      <td>NaN</td>\n",
              "      <td>NaN</td>\n",
              "      <td>NaN</td>\n",
              "      <td>NaN</td>\n",
              "      <td>Yes</td>\n",
              "      <td>AWD</td>\n",
              "      <td>Type 2 CCS</td>\n",
              "      <td>SUV</td>\n",
              "      <td>C</td>\n",
              "      <td>NaN</td>\n",
              "      <td>NaN</td>\n",
              "    </tr>\n",
              "    <tr>\n",
              "      <th>freq</th>\n",
              "      <td>13</td>\n",
              "      <td>2</td>\n",
              "      <td>NaN</td>\n",
              "      <td>NaN</td>\n",
              "      <td>NaN</td>\n",
              "      <td>NaN</td>\n",
              "      <td>NaN</td>\n",
              "      <td>98</td>\n",
              "      <td>41</td>\n",
              "      <td>90</td>\n",
              "      <td>45</td>\n",
              "      <td>30</td>\n",
              "      <td>NaN</td>\n",
              "      <td>NaN</td>\n",
              "    </tr>\n",
              "    <tr>\n",
              "      <th>mean</th>\n",
              "      <td>NaN</td>\n",
              "      <td>NaN</td>\n",
              "      <td>7.046939</td>\n",
              "      <td>181.653061</td>\n",
              "      <td>350.153061</td>\n",
              "      <td>189.867347</td>\n",
              "      <td>456.734694</td>\n",
              "      <td>NaN</td>\n",
              "      <td>NaN</td>\n",
              "      <td>NaN</td>\n",
              "      <td>NaN</td>\n",
              "      <td>NaN</td>\n",
              "      <td>4.959184</td>\n",
              "      <td>57324.683673</td>\n",
              "    </tr>\n",
              "    <tr>\n",
              "      <th>std</th>\n",
              "      <td>NaN</td>\n",
              "      <td>NaN</td>\n",
              "      <td>2.483895</td>\n",
              "      <td>43.248527</td>\n",
              "      <td>118.217984</td>\n",
              "      <td>30.055837</td>\n",
              "      <td>201.262897</td>\n",
              "      <td>NaN</td>\n",
              "      <td>NaN</td>\n",
              "      <td>NaN</td>\n",
              "      <td>NaN</td>\n",
              "      <td>NaN</td>\n",
              "      <td>0.687418</td>\n",
              "      <td>34288.246370</td>\n",
              "    </tr>\n",
              "    <tr>\n",
              "      <th>min</th>\n",
              "      <td>NaN</td>\n",
              "      <td>NaN</td>\n",
              "      <td>2.100000</td>\n",
              "      <td>123.000000</td>\n",
              "      <td>170.000000</td>\n",
              "      <td>104.000000</td>\n",
              "      <td>170.000000</td>\n",
              "      <td>NaN</td>\n",
              "      <td>NaN</td>\n",
              "      <td>NaN</td>\n",
              "      <td>NaN</td>\n",
              "      <td>NaN</td>\n",
              "      <td>4.000000</td>\n",
              "      <td>20129.000000</td>\n",
              "    </tr>\n",
              "    <tr>\n",
              "      <th>25%</th>\n",
              "      <td>NaN</td>\n",
              "      <td>NaN</td>\n",
              "      <td>5.100000</td>\n",
              "      <td>150.000000</td>\n",
              "      <td>258.750000</td>\n",
              "      <td>168.000000</td>\n",
              "      <td>275.000000</td>\n",
              "      <td>NaN</td>\n",
              "      <td>NaN</td>\n",
              "      <td>NaN</td>\n",
              "      <td>NaN</td>\n",
              "      <td>NaN</td>\n",
              "      <td>5.000000</td>\n",
              "      <td>35000.000000</td>\n",
              "    </tr>\n",
              "    <tr>\n",
              "      <th>50%</th>\n",
              "      <td>NaN</td>\n",
              "      <td>NaN</td>\n",
              "      <td>7.300000</td>\n",
              "      <td>167.000000</td>\n",
              "      <td>350.000000</td>\n",
              "      <td>181.000000</td>\n",
              "      <td>440.000000</td>\n",
              "      <td>NaN</td>\n",
              "      <td>NaN</td>\n",
              "      <td>NaN</td>\n",
              "      <td>NaN</td>\n",
              "      <td>NaN</td>\n",
              "      <td>5.000000</td>\n",
              "      <td>45000.000000</td>\n",
              "    </tr>\n",
              "    <tr>\n",
              "      <th>75%</th>\n",
              "      <td>NaN</td>\n",
              "      <td>NaN</td>\n",
              "      <td>8.950000</td>\n",
              "      <td>200.000000</td>\n",
              "      <td>407.500000</td>\n",
              "      <td>206.000000</td>\n",
              "      <td>560.000000</td>\n",
              "      <td>NaN</td>\n",
              "      <td>NaN</td>\n",
              "      <td>NaN</td>\n",
              "      <td>NaN</td>\n",
              "      <td>NaN</td>\n",
              "      <td>5.000000</td>\n",
              "      <td>65465.000000</td>\n",
              "    </tr>\n",
              "    <tr>\n",
              "      <th>max</th>\n",
              "      <td>NaN</td>\n",
              "      <td>NaN</td>\n",
              "      <td>14.000000</td>\n",
              "      <td>410.000000</td>\n",
              "      <td>970.000000</td>\n",
              "      <td>273.000000</td>\n",
              "      <td>940.000000</td>\n",
              "      <td>NaN</td>\n",
              "      <td>NaN</td>\n",
              "      <td>NaN</td>\n",
              "      <td>NaN</td>\n",
              "      <td>NaN</td>\n",
              "      <td>7.000000</td>\n",
              "      <td>215000.000000</td>\n",
              "    </tr>\n",
              "  </tbody>\n",
              "</table>\n",
              "</div>\n",
              "      <button class=\"colab-df-convert\" onclick=\"convertToInteractive('df-908f6933-eb84-4986-adee-95df447e2c8a')\"\n",
              "              title=\"Convert this dataframe to an interactive table.\"\n",
              "              style=\"display:none;\">\n",
              "        \n",
              "  <svg xmlns=\"http://www.w3.org/2000/svg\" height=\"24px\"viewBox=\"0 0 24 24\"\n",
              "       width=\"24px\">\n",
              "    <path d=\"M0 0h24v24H0V0z\" fill=\"none\"/>\n",
              "    <path d=\"M18.56 5.44l.94 2.06.94-2.06 2.06-.94-2.06-.94-.94-2.06-.94 2.06-2.06.94zm-11 1L8.5 8.5l.94-2.06 2.06-.94-2.06-.94L8.5 2.5l-.94 2.06-2.06.94zm10 10l.94 2.06.94-2.06 2.06-.94-2.06-.94-.94-2.06-.94 2.06-2.06.94z\"/><path d=\"M17.41 7.96l-1.37-1.37c-.4-.4-.92-.59-1.43-.59-.52 0-1.04.2-1.43.59L10.3 9.45l-7.72 7.72c-.78.78-.78 2.05 0 2.83L4 21.41c.39.39.9.59 1.41.59.51 0 1.02-.2 1.41-.59l7.78-7.78 2.81-2.81c.8-.78.8-2.07 0-2.86zM5.41 20L4 18.59l7.72-7.72 1.47 1.35L5.41 20z\"/>\n",
              "  </svg>\n",
              "      </button>\n",
              "      \n",
              "  <style>\n",
              "    .colab-df-container {\n",
              "      display:flex;\n",
              "      flex-wrap:wrap;\n",
              "      gap: 12px;\n",
              "    }\n",
              "\n",
              "    .colab-df-convert {\n",
              "      background-color: #E8F0FE;\n",
              "      border: none;\n",
              "      border-radius: 50%;\n",
              "      cursor: pointer;\n",
              "      display: none;\n",
              "      fill: #1967D2;\n",
              "      height: 32px;\n",
              "      padding: 0 0 0 0;\n",
              "      width: 32px;\n",
              "    }\n",
              "\n",
              "    .colab-df-convert:hover {\n",
              "      background-color: #E2EBFA;\n",
              "      box-shadow: 0px 1px 2px rgba(60, 64, 67, 0.3), 0px 1px 3px 1px rgba(60, 64, 67, 0.15);\n",
              "      fill: #174EA6;\n",
              "    }\n",
              "\n",
              "    [theme=dark] .colab-df-convert {\n",
              "      background-color: #3B4455;\n",
              "      fill: #D2E3FC;\n",
              "    }\n",
              "\n",
              "    [theme=dark] .colab-df-convert:hover {\n",
              "      background-color: #434B5C;\n",
              "      box-shadow: 0px 1px 3px 1px rgba(0, 0, 0, 0.15);\n",
              "      filter: drop-shadow(0px 1px 2px rgba(0, 0, 0, 0.3));\n",
              "      fill: #FFFFFF;\n",
              "    }\n",
              "  </style>\n",
              "\n",
              "      <script>\n",
              "        const buttonEl =\n",
              "          document.querySelector('#df-908f6933-eb84-4986-adee-95df447e2c8a button.colab-df-convert');\n",
              "        buttonEl.style.display =\n",
              "          google.colab.kernel.accessAllowed ? 'block' : 'none';\n",
              "\n",
              "        async function convertToInteractive(key) {\n",
              "          const element = document.querySelector('#df-908f6933-eb84-4986-adee-95df447e2c8a');\n",
              "          const dataTable =\n",
              "            await google.colab.kernel.invokeFunction('convertToInteractive',\n",
              "                                                     [key], {});\n",
              "          if (!dataTable) return;\n",
              "\n",
              "          const docLinkHtml = 'Like what you see? Visit the ' +\n",
              "            '<a target=\"_blank\" href=https://colab.research.google.com/notebooks/data_table.ipynb>data table notebook</a>'\n",
              "            + ' to learn more about interactive tables.';\n",
              "          element.innerHTML = '';\n",
              "          dataTable['output_type'] = 'display_data';\n",
              "          await google.colab.output.renderOutput(dataTable, element);\n",
              "          const docLink = document.createElement('div');\n",
              "          docLink.innerHTML = docLinkHtml;\n",
              "          element.appendChild(docLink);\n",
              "        }\n",
              "      </script>\n",
              "    </div>\n",
              "  </div>\n",
              "  "
            ]
          },
          "metadata": {},
          "execution_count": 28
        }
      ],
      "source": [
        "df.describe(include = 'all')"
      ]
    },
    {
      "cell_type": "code",
      "execution_count": null,
      "id": "b773929f",
      "metadata": {
        "id": "b773929f",
        "outputId": "4f547a15-a721-4f81-d562-a5b12d97df9a",
        "colab": {
          "base_uri": "https://localhost:8080/",
          "height": 296
        }
      },
      "outputs": [
        {
          "output_type": "execute_result",
          "data": {
            "text/plain": [
              "<matplotlib.axes._subplots.AxesSubplot at 0x7fbddf3939d0>"
            ]
          },
          "metadata": {},
          "execution_count": 11
        },
        {
          "output_type": "display_data",
          "data": {
            "text/plain": [
              "<Figure size 432x288 with 1 Axes>"
            ],
            "image/png": "[encoded data removed]"
          },
          "metadata": {
            "needs_background": "light"
          }
        }
      ],
      "source": [
        "sns.distplot(df['AccelSec'])"
      ]
    },
    {
      "cell_type": "code",
      "execution_count": null,
      "id": "58061bd8",
      "metadata": {
        "id": "58061bd8",
        "outputId": "1685a3d8-d3e2-46fe-b681-aaa3824d3014"
      },
      "outputs": [
        {
          "data": {
            "text/plain": [
              "<AxesSubplot:xlabel='TopSpeed_KmH', ylabel='Density'>"
            ]
          },
          "execution_count": 10,
          "metadata": {},
          "output_type": "execute_result"
        },
        {
          "data": {
            "image/png": "[encoded data removed]",
            "text/plain": [
              "<Figure size 432x288 with 1 Axes>"
            ]
          },
          "metadata": {
            "needs_background": "light"
          },
          "output_type": "display_data"
        }
      ],
      "source": [
        "sns.distplot(df['TopSpeed_KmH'])"
      ]
    },
    {
      "cell_type": "code",
      "execution_count": null,
      "id": "61f07a77",
      "metadata": {
        "id": "61f07a77",
        "outputId": "ba2bd9ff-289c-4b4e-cc92-67fbe6356eec"
      },
      "outputs": [
        {
          "data": {
            "text/plain": [
              "<AxesSubplot:xlabel='Efficiency_WhKm', ylabel='count'>"
            ]
          },
          "execution_count": 11,
          "metadata": {},
          "output_type": "execute_result"
        },
        {
          "data": {
            "image/png": "[encoded data removed]",
            "text/plain": [
              "<Figure size 432x288 with 1 Axes>"
            ]
          },
          "metadata": {
            "needs_background": "light"
          },
          "output_type": "display_data"
        }
      ],
      "source": [
        "\n",
        "sns.countplot(df['Efficiency_WhKm'])"
      ]
    },
    {
      "cell_type": "code",
      "execution_count": null,
      "id": "c7a020b0",
      "metadata": {
        "id": "c7a020b0",
        "outputId": "44de5794-090a-4ebe-a02b-9961c8c2cd70"
      },
      "outputs": [
        {
          "data": {
            "text/plain": [
              "<AxesSubplot:xlabel='PowerTrain', ylabel='count'>"
            ]
          },
          "execution_count": 12,
          "metadata": {},
          "output_type": "execute_result"
        },
        {
          "data": {
            "image/png": "[encoded data removed]",
            "text/plain": [
              "<Figure size 432x288 with 1 Axes>"
            ]
          },
          "metadata": {
            "needs_background": "light"
          },
          "output_type": "display_data"
        }
      ],
      "source": [
        "sns.countplot(df['PowerTrain'])"
      ]
    },
    {
      "cell_type": "code",
      "execution_count": null,
      "id": "dfef4a5e",
      "metadata": {
        "id": "dfef4a5e",
        "outputId": "dabd538c-77fd-4b65-9a44-23c7e224085c"
      },
      "outputs": [
        {
          "data": {
            "text/plain": [
              "<AxesSubplot:xlabel='RapidCharge', ylabel='count'>"
            ]
          },
          "execution_count": 13,
          "metadata": {},
          "output_type": "execute_result"
        },
        {
          "data": {
            "image/png": "[encoded data removed]",
            "text/plain": [
              "<Figure size 432x288 with 1 Axes>"
            ]
          },
          "metadata": {
            "needs_background": "light"
          },
          "output_type": "display_data"
        }
      ],
      "source": [
        "sns.countplot(df['RapidCharge'])"
      ]
    },
    {
      "cell_type": "code",
      "execution_count": null,
      "id": "a2ad9fb4",
      "metadata": {
        "id": "a2ad9fb4",
        "outputId": "7a4ae3d4-2c1b-46f4-f049-1b7726715ff7",
        "colab": {
          "base_uri": "https://localhost:8080/",
          "height": 296
        }
      },
      "outputs": [
        {
          "output_type": "execute_result",
          "data": {
            "text/plain": [
              "<matplotlib.axes._subplots.AxesSubplot at 0x7fbddf1d8ad0>"
            ]
          },
          "metadata": {},
          "execution_count": 12
        },
        {
          "output_type": "display_data",
          "data": {
            "text/plain": [
              "<Figure size 432x288 with 1 Axes>"
            ],
            "image/png": "[encoded data removed]"
          },
          "metadata": {
            "needs_background": "light"
          }
        }
      ],
      "source": [
        "sns.countplot(df['PlugType'])"
      ]
    },
    {
      "cell_type": "code",
      "execution_count": null,
      "id": "f93dfc61",
      "metadata": {
        "id": "f93dfc61",
        "outputId": "76cd055b-b5c8-4cc3-a68a-c17944b64b8f"
      },
      "outputs": [
        {
          "data": {
            "text/plain": [
              "<AxesSubplot:xlabel='BodyStyle', ylabel='count'>"
            ]
          },
          "execution_count": 15,
          "metadata": {},
          "output_type": "execute_result"
        },
        {
          "data": {
            "image/png": "[encoded data removed]",
            "text/plain": [
              "<Figure size 432x288 with 1 Axes>"
            ]
          },
          "metadata": {
            "needs_background": "light"
          },
          "output_type": "display_data"
        }
      ],
      "source": [
        "sns.countplot(df['BodyStyle'])"
      ]
    },
    {
      "cell_type": "code",
      "execution_count": null,
      "id": "438a9c55",
      "metadata": {
        "id": "438a9c55",
        "outputId": "0e166db1-5ad3-47aa-fcb8-f62c9aae7e35"
      },
      "outputs": [
        {
          "data": {
            "text/plain": [
              "<AxesSubplot:xlabel='Segment', ylabel='count'>"
            ]
          },
          "execution_count": 16,
          "metadata": {},
          "output_type": "execute_result"
        },
        {
          "data": {
            "image/png": "[encoded data removed]",
            "text/plain": [
              "<Figure size 432x288 with 1 Axes>"
            ]
          },
          "metadata": {
            "needs_background": "light"
          },
          "output_type": "display_data"
        }
      ],
      "source": [
        "sns.countplot(df['Segment'])"
      ]
    },
    {
      "cell_type": "code",
      "execution_count": null,
      "id": "9dde4e4f",
      "metadata": {
        "id": "9dde4e4f",
        "outputId": "653bd5ed-ff10-4866-d68c-4e3efeed4635"
      },
      "outputs": [
        {
          "data": {
            "text/plain": [
              "<AxesSubplot:xlabel='PriceEuro', ylabel='Density'>"
            ]
          },
          "execution_count": 17,
          "metadata": {},
          "output_type": "execute_result"
        },
        {
          "data": {
            "image/png": "[encoded data removed]",
            "text/plain": [
              "<Figure size 432x288 with 1 Axes>"
            ]
          },
          "metadata": {
            "needs_background": "light"
          },
          "output_type": "display_data"
        }
      ],
      "source": [
        "sns.distplot(df['PriceEuro'])"
      ]
    },
    {
      "cell_type": "code",
      "execution_count": null,
      "id": "40f6f553",
      "metadata": {
        "id": "40f6f553",
        "outputId": "7ceea09c-ac3c-45d9-f5f9-2a9ea2089f64",
        "colab": {
          "base_uri": "https://localhost:8080/",
          "height": 389
        }
      },
      "outputs": [
        {
          "output_type": "execute_result",
          "data": {
            "text/plain": [
              "         Brand                          Model  AccelSec  TopSpeed_KmH  \\\n",
              "0       Tesla   Model 3 Long Range Dual Motor       4.6           233   \n",
              "1  Volkswagen                       ID.3 Pure      10.0           160   \n",
              "2    Polestar                               2       4.7           210   \n",
              "3         BMW                            iX3        6.8           180   \n",
              "4       Honda                              e        9.5           145   \n",
              "\n",
              "   Range_Km  Efficiency_WhKm  FastCharge_KmH RapidCharge PowerTrain  \\\n",
              "0       450              161             940         Yes        AWD   \n",
              "1       270              167             250         Yes        RWD   \n",
              "2       400              181             620         Yes        AWD   \n",
              "3       360              206             560         Yes        RWD   \n",
              "4       170              168             190         Yes        RWD   \n",
              "\n",
              "     PlugType  BodyStyle Segment  Seats  PriceEuro  \n",
              "0  Type 2 CCS      Sedan       D      5      55480  \n",
              "1  Type 2 CCS  Hatchback       C      5      30000  \n",
              "2  Type 2 CCS   Liftback       D      5      56440  \n",
              "3  Type 2 CCS        SUV       D      5      68040  \n",
              "4  Type 2 CCS  Hatchback       B      4      32997  "
            ],
            "text/html": [
              "\n",
              "  <div id=\"df-9cc894df-24f5-4ca2-8e09-02177c7cdb07\">\n",
              "    <div class=\"colab-df-container\">\n",
              "      <div>\n",
              "<style scoped>\n",
              "    .dataframe tbody tr th:only-of-type {\n",
              "        vertical-align: middle;\n",
              "    }\n",
              "\n",
              "    .dataframe tbody tr th {\n",
              "        vertical-align: top;\n",
              "    }\n",
              "\n",
              "    .dataframe thead th {\n",
              "        text-align: right;\n",
              "    }\n",
              "</style>\n",
              "<table border=\"1\" class=\"dataframe\">\n",
              "  <thead>\n",
              "    <tr style=\"text-align: right;\">\n",
              "      <th></th>\n",
              "      <th>Brand</th>\n",
              "      <th>Model</th>\n",
              "      <th>AccelSec</th>\n",
              "      <th>TopSpeed_KmH</th>\n",
              "      <th>Range_Km</th>\n",
              "      <th>Efficiency_WhKm</th>\n",
              "      <th>FastCharge_KmH</th>\n",
              "      <th>RapidCharge</th>\n",
              "      <th>PowerTrain</th>\n",
              "      <th>PlugType</th>\n",
              "      <th>BodyStyle</th>\n",
              "      <th>Segment</th>\n",
              "      <th>Seats</th>\n",
              "      <th>PriceEuro</th>\n",
              "    </tr>\n",
              "  </thead>\n",
              "  <tbody>\n",
              "    <tr>\n",
              "      <th>0</th>\n",
              "      <td>Tesla</td>\n",
              "      <td>Model 3 Long Range Dual Motor</td>\n",
              "      <td>4.6</td>\n",
              "      <td>233</td>\n",
              "      <td>450</td>\n",
              "      <td>161</td>\n",
              "      <td>940</td>\n",
              "      <td>Yes</td>\n",
              "      <td>AWD</td>\n",
              "      <td>Type 2 CCS</td>\n",
              "      <td>Sedan</td>\n",
              "      <td>D</td>\n",
              "      <td>5</td>\n",
              "      <td>55480</td>\n",
              "    </tr>\n",
              "    <tr>\n",
              "      <th>1</th>\n",
              "      <td>Volkswagen</td>\n",
              "      <td>ID.3 Pure</td>\n",
              "      <td>10.0</td>\n",
              "      <td>160</td>\n",
              "      <td>270</td>\n",
              "      <td>167</td>\n",
              "      <td>250</td>\n",
              "      <td>Yes</td>\n",
              "      <td>RWD</td>\n",
              "      <td>Type 2 CCS</td>\n",
              "      <td>Hatchback</td>\n",
              "      <td>C</td>\n",
              "      <td>5</td>\n",
              "      <td>30000</td>\n",
              "    </tr>\n",
              "    <tr>\n",
              "      <th>2</th>\n",
              "      <td>Polestar</td>\n",
              "      <td>2</td>\n",
              "      <td>4.7</td>\n",
              "      <td>210</td>\n",
              "      <td>400</td>\n",
              "      <td>181</td>\n",
              "      <td>620</td>\n",
              "      <td>Yes</td>\n",
              "      <td>AWD</td>\n",
              "      <td>Type 2 CCS</td>\n",
              "      <td>Liftback</td>\n",
              "      <td>D</td>\n",
              "      <td>5</td>\n",
              "      <td>56440</td>\n",
              "    </tr>\n",
              "    <tr>\n",
              "      <th>3</th>\n",
              "      <td>BMW</td>\n",
              "      <td>iX3</td>\n",
              "      <td>6.8</td>\n",
              "      <td>180</td>\n",
              "      <td>360</td>\n",
              "      <td>206</td>\n",
              "      <td>560</td>\n",
              "      <td>Yes</td>\n",
              "      <td>RWD</td>\n",
              "      <td>Type 2 CCS</td>\n",
              "      <td>SUV</td>\n",
              "      <td>D</td>\n",
              "      <td>5</td>\n",
              "      <td>68040</td>\n",
              "    </tr>\n",
              "    <tr>\n",
              "      <th>4</th>\n",
              "      <td>Honda</td>\n",
              "      <td>e</td>\n",
              "      <td>9.5</td>\n",
              "      <td>145</td>\n",
              "      <td>170</td>\n",
              "      <td>168</td>\n",
              "      <td>190</td>\n",
              "      <td>Yes</td>\n",
              "      <td>RWD</td>\n",
              "      <td>Type 2 CCS</td>\n",
              "      <td>Hatchback</td>\n",
              "      <td>B</td>\n",
              "      <td>4</td>\n",
              "      <td>32997</td>\n",
              "    </tr>\n",
              "  </tbody>\n",
              "</table>\n",
              "</div>\n",
              "      <button class=\"colab-df-convert\" onclick=\"convertToInteractive('df-9cc894df-24f5-4ca2-8e09-02177c7cdb07')\"\n",
              "              title=\"Convert this dataframe to an interactive table.\"\n",
              "              style=\"display:none;\">\n",
              "        \n",
              "  <svg xmlns=\"http://www.w3.org/2000/svg\" height=\"24px\"viewBox=\"0 0 24 24\"\n",
              "       width=\"24px\">\n",
              "    <path d=\"M0 0h24v24H0V0z\" fill=\"none\"/>\n",
              "    <path d=\"M18.56 5.44l.94 2.06.94-2.06 2.06-.94-2.06-.94-.94-2.06-.94 2.06-2.06.94zm-11 1L8.5 8.5l.94-2.06 2.06-.94-2.06-.94L8.5 2.5l-.94 2.06-2.06.94zm10 10l.94 2.06.94-2.06 2.06-.94-2.06-.94-.94-2.06-.94 2.06-2.06.94z\"/><path d=\"M17.41 7.96l-1.37-1.37c-.4-.4-.92-.59-1.43-.59-.52 0-1.04.2-1.43.59L10.3 9.45l-7.72 7.72c-.78.78-.78 2.05 0 2.83L4 21.41c.39.39.9.59 1.41.59.51 0 1.02-.2 1.41-.59l7.78-7.78 2.81-2.81c.8-.78.8-2.07 0-2.86zM5.41 20L4 18.59l7.72-7.72 1.47 1.35L5.41 20z\"/>\n",
              "  </svg>\n",
              "      </button>\n",
              "      \n",
              "  <style>\n",
              "    .colab-df-container {\n",
              "      display:flex;\n",
              "      flex-wrap:wrap;\n",
              "      gap: 12px;\n",
              "    }\n",
              "\n",
              "    .colab-df-convert {\n",
              "      background-color: #E8F0FE;\n",
              "      border: none;\n",
              "      border-radius: 50%;\n",
              "      cursor: pointer;\n",
              "      display: none;\n",
              "      fill: #1967D2;\n",
              "      height: 32px;\n",
              "      padding: 0 0 0 0;\n",
              "      width: 32px;\n",
              "    }\n",
              "\n",
              "    .colab-df-convert:hover {\n",
              "      background-color: #E2EBFA;\n",
              "      box-shadow: 0px 1px 2px rgba(60, 64, 67, 0.3), 0px 1px 3px 1px rgba(60, 64, 67, 0.15);\n",
              "      fill: #174EA6;\n",
              "    }\n",
              "\n",
              "    [theme=dark] .colab-df-convert {\n",
              "      background-color: #3B4455;\n",
              "      fill: #D2E3FC;\n",
              "    }\n",
              "\n",
              "    [theme=dark] .colab-df-convert:hover {\n",
              "      background-color: #434B5C;\n",
              "      box-shadow: 0px 1px 3px 1px rgba(0, 0, 0, 0.15);\n",
              "      filter: drop-shadow(0px 1px 2px rgba(0, 0, 0, 0.3));\n",
              "      fill: #FFFFFF;\n",
              "    }\n",
              "  </style>\n",
              "\n",
              "      <script>\n",
              "        const buttonEl =\n",
              "          document.querySelector('#df-9cc894df-24f5-4ca2-8e09-02177c7cdb07 button.colab-df-convert');\n",
              "        buttonEl.style.display =\n",
              "          google.colab.kernel.accessAllowed ? 'block' : 'none';\n",
              "\n",
              "        async function convertToInteractive(key) {\n",
              "          const element = document.querySelector('#df-9cc894df-24f5-4ca2-8e09-02177c7cdb07');\n",
              "          const dataTable =\n",
              "            await google.colab.kernel.invokeFunction('convertToInteractive',\n",
              "                                                     [key], {});\n",
              "          if (!dataTable) return;\n",
              "\n",
              "          const docLinkHtml = 'Like what you see? Visit the ' +\n",
              "            '<a target=\"_blank\" href=https://colab.research.google.com/notebooks/data_table.ipynb>data table notebook</a>'\n",
              "            + ' to learn more about interactive tables.';\n",
              "          element.innerHTML = '';\n",
              "          dataTable['output_type'] = 'display_data';\n",
              "          await google.colab.output.renderOutput(dataTable, element);\n",
              "          const docLink = document.createElement('div');\n",
              "          docLink.innerHTML = docLinkHtml;\n",
              "          element.appendChild(docLink);\n",
              "        }\n",
              "      </script>\n",
              "    </div>\n",
              "  </div>\n",
              "  "
            ]
          },
          "metadata": {},
          "execution_count": 29
        }
      ],
      "source": [
        "df.head()"
      ]
    },
    {
      "cell_type": "code",
      "execution_count": null,
      "id": "42500086",
      "metadata": {
        "id": "42500086",
        "outputId": "2e79678b-ab5f-49c8-c05d-8ddc35915743"
      },
      "outputs": [
        {
          "data": {
            "text/plain": [
              "Index(['Brand', 'Model', 'AccelSec', 'TopSpeed_KmH', 'Range_Km',\n",
              "       'Efficiency_WhKm', 'FastCharge_KmH', 'RapidCharge', 'PowerTrain',\n",
              "       'PlugType', 'BodyStyle', 'Segment', 'Seats', 'PriceEuro'],\n",
              "      dtype='object')"
            ]
          },
          "execution_count": 19,
          "metadata": {},
          "output_type": "execute_result"
        }
      ],
      "source": [
        "df.columns"
      ]
    },
    {
      "cell_type": "code",
      "execution_count": null,
      "id": "13d86f11",
      "metadata": {
        "id": "13d86f11"
      },
      "outputs": [],
      "source": [
        "from sklearn import preprocessing\n",
        "label_encoder = preprocessing.LabelEncoder()\n",
        "df['PowerTrain']= label_encoder.fit_transform(df['PowerTrain'])\n",
        "df['PlugType']= label_encoder.fit_transform(df['PlugType'])\n",
        "df['BodyStyle']= label_encoder.fit_transform(df['BodyStyle'])\n",
        "df['Segment']= label_encoder.fit_transform(df['Segment'])"
      ]
    },
    {
      "cell_type": "code",
      "execution_count": null,
      "id": "2d4e36a2",
      "metadata": {
        "id": "2d4e36a2",
        "outputId": "f7a1873c-6da2-45be-ab4c-e62345608657"
      },
      "outputs": [
        {
          "data": {
            "text/html": [
              "<div>\n",
              "<style scoped>\n",
              "    .dataframe tbody tr th:only-of-type {\n",
              "        vertical-align: middle;\n",
              "    }\n",
              "\n",
              "    .dataframe tbody tr th {\n",
              "        vertical-align: top;\n",
              "    }\n",
              "\n",
              "    .dataframe thead th {\n",
              "        text-align: right;\n",
              "    }\n",
              "</style>\n",
              "<table border=\"1\" class=\"dataframe\">\n",
              "  <thead>\n",
              "    <tr style=\"text-align: right;\">\n",
              "      <th></th>\n",
              "      <th>Brand</th>\n",
              "      <th>Model</th>\n",
              "      <th>AccelSec</th>\n",
              "      <th>TopSpeed_KmH</th>\n",
              "      <th>Range_Km</th>\n",
              "      <th>Efficiency_WhKm</th>\n",
              "      <th>FastCharge_KmH</th>\n",
              "      <th>RapidCharge</th>\n",
              "      <th>PowerTrain</th>\n",
              "      <th>PlugType</th>\n",
              "      <th>BodyStyle</th>\n",
              "      <th>Segment</th>\n",
              "      <th>Seats</th>\n",
              "      <th>PriceEuro</th>\n",
              "    </tr>\n",
              "  </thead>\n",
              "  <tbody>\n",
              "    <tr>\n",
              "      <th>0</th>\n",
              "      <td>Tesla</td>\n",
              "      <td>Model 3 Long Range Dual Motor</td>\n",
              "      <td>4.6</td>\n",
              "      <td>233</td>\n",
              "      <td>450</td>\n",
              "      <td>161</td>\n",
              "      <td>940</td>\n",
              "      <td>Yes</td>\n",
              "      <td>0</td>\n",
              "      <td>2</td>\n",
              "      <td>7</td>\n",
              "      <td>3</td>\n",
              "      <td>5</td>\n",
              "      <td>55480</td>\n",
              "    </tr>\n",
              "    <tr>\n",
              "      <th>1</th>\n",
              "      <td>Volkswagen</td>\n",
              "      <td>ID.3 Pure</td>\n",
              "      <td>10.0</td>\n",
              "      <td>160</td>\n",
              "      <td>270</td>\n",
              "      <td>167</td>\n",
              "      <td>250</td>\n",
              "      <td>Yes</td>\n",
              "      <td>2</td>\n",
              "      <td>2</td>\n",
              "      <td>1</td>\n",
              "      <td>2</td>\n",
              "      <td>5</td>\n",
              "      <td>30000</td>\n",
              "    </tr>\n",
              "    <tr>\n",
              "      <th>2</th>\n",
              "      <td>Polestar</td>\n",
              "      <td>2</td>\n",
              "      <td>4.7</td>\n",
              "      <td>210</td>\n",
              "      <td>400</td>\n",
              "      <td>181</td>\n",
              "      <td>620</td>\n",
              "      <td>Yes</td>\n",
              "      <td>0</td>\n",
              "      <td>2</td>\n",
              "      <td>2</td>\n",
              "      <td>3</td>\n",
              "      <td>5</td>\n",
              "      <td>56440</td>\n",
              "    </tr>\n",
              "    <tr>\n",
              "      <th>3</th>\n",
              "      <td>BMW</td>\n",
              "      <td>iX3</td>\n",
              "      <td>6.8</td>\n",
              "      <td>180</td>\n",
              "      <td>360</td>\n",
              "      <td>206</td>\n",
              "      <td>560</td>\n",
              "      <td>Yes</td>\n",
              "      <td>2</td>\n",
              "      <td>2</td>\n",
              "      <td>6</td>\n",
              "      <td>3</td>\n",
              "      <td>5</td>\n",
              "      <td>68040</td>\n",
              "    </tr>\n",
              "    <tr>\n",
              "      <th>4</th>\n",
              "      <td>Honda</td>\n",
              "      <td>e</td>\n",
              "      <td>9.5</td>\n",
              "      <td>145</td>\n",
              "      <td>170</td>\n",
              "      <td>168</td>\n",
              "      <td>190</td>\n",
              "      <td>Yes</td>\n",
              "      <td>2</td>\n",
              "      <td>2</td>\n",
              "      <td>1</td>\n",
              "      <td>1</td>\n",
              "      <td>4</td>\n",
              "      <td>32997</td>\n",
              "    </tr>\n",
              "  </tbody>\n",
              "</table>\n",
              "</div>"
            ],
            "text/plain": [
              "         Brand                          Model  AccelSec  TopSpeed_KmH  \\\n",
              "0       Tesla   Model 3 Long Range Dual Motor       4.6           233   \n",
              "1  Volkswagen                       ID.3 Pure      10.0           160   \n",
              "2    Polestar                               2       4.7           210   \n",
              "3         BMW                            iX3        6.8           180   \n",
              "4       Honda                              e        9.5           145   \n",
              "\n",
              "   Range_Km  Efficiency_WhKm  FastCharge_KmH RapidCharge  PowerTrain  \\\n",
              "0       450              161             940         Yes           0   \n",
              "1       270              167             250         Yes           2   \n",
              "2       400              181             620         Yes           0   \n",
              "3       360              206             560         Yes           2   \n",
              "4       170              168             190         Yes           2   \n",
              "\n",
              "   PlugType  BodyStyle  Segment  Seats  PriceEuro  \n",
              "0         2          7        3      5      55480  \n",
              "1         2          1        2      5      30000  \n",
              "2         2          2        3      5      56440  \n",
              "3         2          6        3      5      68040  \n",
              "4         2          1        1      4      32997  "
            ]
          },
          "execution_count": 21,
          "metadata": {},
          "output_type": "execute_result"
        }
      ],
      "source": [
        "df.head()"
      ]
    },
    {
      "cell_type": "code",
      "execution_count": null,
      "id": "2d59683a",
      "metadata": {
        "id": "2d59683a",
        "outputId": "cb3e3468-7007-4d3b-8aa5-72c14ceae488",
        "colab": {
          "base_uri": "https://localhost:8080/",
          "height": 394
        }
      },
      "outputs": [
        {
          "output_type": "execute_result",
          "data": {
            "text/plain": [
              "                 AccelSec  TopSpeed_KmH  Range_Km  Efficiency_WhKm  \\\n",
              "AccelSec         1.000000     -0.844706 -0.656763        -0.439087   \n",
              "TopSpeed_KmH    -0.844706      1.000000  0.729297         0.343488   \n",
              "Range_Km        -0.656763      0.729297  1.000000         0.296230   \n",
              "Efficiency_WhKm -0.439087      0.343488  0.296230         1.000000   \n",
              "FastCharge_KmH  -0.768397      0.769719  0.698120         0.307342   \n",
              "PowerTrain       0.538941     -0.532118 -0.385620        -0.378042   \n",
              "PlugType         0.026496     -0.178448 -0.110401        -0.102691   \n",
              "BodyStyle       -0.358813      0.304158  0.149523         0.356114   \n",
              "Segment         -0.598939      0.692207  0.634600         0.630230   \n",
              "Seats           -0.046564      0.023792  0.154212         0.290138   \n",
              "PriceEuro       -0.683177      0.822229  0.662957         0.384342   \n",
              "\n",
              "                 FastCharge_KmH  PowerTrain  PlugType  BodyStyle   Segment  \\\n",
              "AccelSec              -0.768397    0.538941  0.026496  -0.358813 -0.598939   \n",
              "TopSpeed_KmH           0.769719   -0.532118 -0.178448   0.304158  0.692207   \n",
              "Range_Km               0.698120   -0.385620 -0.110401   0.149523  0.634600   \n",
              "Efficiency_WhKm        0.307342   -0.378042 -0.102691   0.356114  0.630230   \n",
              "FastCharge_KmH         1.000000   -0.419962 -0.042738   0.365286  0.627396   \n",
              "PowerTrain            -0.419962    1.000000  0.134781  -0.295113 -0.461971   \n",
              "PlugType              -0.042738    0.134781  1.000000  -0.066713 -0.339867   \n",
              "BodyStyle              0.365286   -0.295113 -0.066713   1.000000  0.364106   \n",
              "Segment                0.627396   -0.461971 -0.339867   0.364106  1.000000   \n",
              "Seats                  0.096641   -0.171109 -0.363249   0.258632  0.340281   \n",
              "PriceEuro              0.651613   -0.537812 -0.129115   0.288515  0.754310   \n",
              "\n",
              "                    Seats  PriceEuro  \n",
              "AccelSec        -0.046564  -0.683177  \n",
              "TopSpeed_KmH     0.023792   0.822229  \n",
              "Range_Km         0.154212   0.662957  \n",
              "Efficiency_WhKm  0.290138   0.384342  \n",
              "FastCharge_KmH   0.096641   0.651613  \n",
              "PowerTrain      -0.171109  -0.537812  \n",
              "PlugType        -0.363249  -0.129115  \n",
              "BodyStyle        0.258632   0.288515  \n",
              "Segment          0.340281   0.754310  \n",
              "Seats            1.000000  -0.086514  \n",
              "PriceEuro       -0.086514   1.000000  "
            ],
            "text/html": [
              "\n",
              "  <div id=\"df-11afbdc9-c9b3-4103-90f4-d50268e4f050\">\n",
              "    <div class=\"colab-df-container\">\n",
              "      <div>\n",
              "<style scoped>\n",
              "    .dataframe tbody tr th:only-of-type {\n",
              "        vertical-align: middle;\n",
              "    }\n",
              "\n",
              "    .dataframe tbody tr th {\n",
              "        vertical-align: top;\n",
              "    }\n",
              "\n",
              "    .dataframe thead th {\n",
              "        text-align: right;\n",
              "    }\n",
              "</style>\n",
              "<table border=\"1\" class=\"dataframe\">\n",
              "  <thead>\n",
              "    <tr style=\"text-align: right;\">\n",
              "      <th></th>\n",
              "      <th>AccelSec</th>\n",
              "      <th>TopSpeed_KmH</th>\n",
              "      <th>Range_Km</th>\n",
              "      <th>Efficiency_WhKm</th>\n",
              "      <th>FastCharge_KmH</th>\n",
              "      <th>PowerTrain</th>\n",
              "      <th>PlugType</th>\n",
              "      <th>BodyStyle</th>\n",
              "      <th>Segment</th>\n",
              "      <th>Seats</th>\n",
              "      <th>PriceEuro</th>\n",
              "    </tr>\n",
              "  </thead>\n",
              "  <tbody>\n",
              "    <tr>\n",
              "      <th>AccelSec</th>\n",
              "      <td>1.000000</td>\n",
              "      <td>-0.844706</td>\n",
              "      <td>-0.656763</td>\n",
              "      <td>-0.439087</td>\n",
              "      <td>-0.768397</td>\n",
              "      <td>0.538941</td>\n",
              "      <td>0.026496</td>\n",
              "      <td>-0.358813</td>\n",
              "      <td>-0.598939</td>\n",
              "      <td>-0.046564</td>\n",
              "      <td>-0.683177</td>\n",
              "    </tr>\n",
              "    <tr>\n",
              "      <th>TopSpeed_KmH</th>\n",
              "      <td>-0.844706</td>\n",
              "      <td>1.000000</td>\n",
              "      <td>0.729297</td>\n",
              "      <td>0.343488</td>\n",
              "      <td>0.769719</td>\n",
              "      <td>-0.532118</td>\n",
              "      <td>-0.178448</td>\n",
              "      <td>0.304158</td>\n",
              "      <td>0.692207</td>\n",
              "      <td>0.023792</td>\n",
              "      <td>0.822229</td>\n",
              "    </tr>\n",
              "    <tr>\n",
              "      <th>Range_Km</th>\n",
              "      <td>-0.656763</td>\n",
              "      <td>0.729297</td>\n",
              "      <td>1.000000</td>\n",
              "      <td>0.296230</td>\n",
              "      <td>0.698120</td>\n",
              "      <td>-0.385620</td>\n",
              "      <td>-0.110401</td>\n",
              "      <td>0.149523</td>\n",
              "      <td>0.634600</td>\n",
              "      <td>0.154212</td>\n",
              "      <td>0.662957</td>\n",
              "    </tr>\n",
              "    <tr>\n",
              "      <th>Efficiency_WhKm</th>\n",
              "      <td>-0.439087</td>\n",
              "      <td>0.343488</td>\n",
              "      <td>0.296230</td>\n",
              "      <td>1.000000</td>\n",
              "      <td>0.307342</td>\n",
              "      <td>-0.378042</td>\n",
              "      <td>-0.102691</td>\n",
              "      <td>0.356114</td>\n",
              "      <td>0.630230</td>\n",
              "      <td>0.290138</td>\n",
              "      <td>0.384342</td>\n",
              "    </tr>\n",
              "    <tr>\n",
              "      <th>FastCharge_KmH</th>\n",
              "      <td>-0.768397</td>\n",
              "      <td>0.769719</td>\n",
              "      <td>0.698120</td>\n",
              "      <td>0.307342</td>\n",
              "      <td>1.000000</td>\n",
              "      <td>-0.419962</td>\n",
              "      <td>-0.042738</td>\n",
              "      <td>0.365286</td>\n",
              "      <td>0.627396</td>\n",
              "      <td>0.096641</td>\n",
              "      <td>0.651613</td>\n",
              "    </tr>\n",
              "    <tr>\n",
              "      <th>PowerTrain</th>\n",
              "      <td>0.538941</td>\n",
              "      <td>-0.532118</td>\n",
              "      <td>-0.385620</td>\n",
              "      <td>-0.378042</td>\n",
              "      <td>-0.419962</td>\n",
              "      <td>1.000000</td>\n",
              "      <td>0.134781</td>\n",
              "      <td>-0.295113</td>\n",
              "      <td>-0.461971</td>\n",
              "      <td>-0.171109</td>\n",
              "      <td>-0.537812</td>\n",
              "    </tr>\n",
              "    <tr>\n",
              "      <th>PlugType</th>\n",
              "      <td>0.026496</td>\n",
              "      <td>-0.178448</td>\n",
              "      <td>-0.110401</td>\n",
              "      <td>-0.102691</td>\n",
              "      <td>-0.042738</td>\n",
              "      <td>0.134781</td>\n",
              "      <td>1.000000</td>\n",
              "      <td>-0.066713</td>\n",
              "      <td>-0.339867</td>\n",
              "      <td>-0.363249</td>\n",
              "      <td>-0.129115</td>\n",
              "    </tr>\n",
              "    <tr>\n",
              "      <th>BodyStyle</th>\n",
              "      <td>-0.358813</td>\n",
              "      <td>0.304158</td>\n",
              "      <td>0.149523</td>\n",
              "      <td>0.356114</td>\n",
              "      <td>0.365286</td>\n",
              "      <td>-0.295113</td>\n",
              "      <td>-0.066713</td>\n",
              "      <td>1.000000</td>\n",
              "      <td>0.364106</td>\n",
              "      <td>0.258632</td>\n",
              "      <td>0.288515</td>\n",
              "    </tr>\n",
              "    <tr>\n",
              "      <th>Segment</th>\n",
              "      <td>-0.598939</td>\n",
              "      <td>0.692207</td>\n",
              "      <td>0.634600</td>\n",
              "      <td>0.630230</td>\n",
              "      <td>0.627396</td>\n",
              "      <td>-0.461971</td>\n",
              "      <td>-0.339867</td>\n",
              "      <td>0.364106</td>\n",
              "      <td>1.000000</td>\n",
              "      <td>0.340281</td>\n",
              "      <td>0.754310</td>\n",
              "    </tr>\n",
              "    <tr>\n",
              "      <th>Seats</th>\n",
              "      <td>-0.046564</td>\n",
              "      <td>0.023792</td>\n",
              "      <td>0.154212</td>\n",
              "      <td>0.290138</td>\n",
              "      <td>0.096641</td>\n",
              "      <td>-0.171109</td>\n",
              "      <td>-0.363249</td>\n",
              "      <td>0.258632</td>\n",
              "      <td>0.340281</td>\n",
              "      <td>1.000000</td>\n",
              "      <td>-0.086514</td>\n",
              "    </tr>\n",
              "    <tr>\n",
              "      <th>PriceEuro</th>\n",
              "      <td>-0.683177</td>\n",
              "      <td>0.822229</td>\n",
              "      <td>0.662957</td>\n",
              "      <td>0.384342</td>\n",
              "      <td>0.651613</td>\n",
              "      <td>-0.537812</td>\n",
              "      <td>-0.129115</td>\n",
              "      <td>0.288515</td>\n",
              "      <td>0.754310</td>\n",
              "      <td>-0.086514</td>\n",
              "      <td>1.000000</td>\n",
              "    </tr>\n",
              "  </tbody>\n",
              "</table>\n",
              "</div>\n",
              "      <button class=\"colab-df-convert\" onclick=\"convertToInteractive('df-11afbdc9-c9b3-4103-90f4-d50268e4f050')\"\n",
              "              title=\"Convert this dataframe to an interactive table.\"\n",
              "              style=\"display:none;\">\n",
              "        \n",
              "  <svg xmlns=\"http://www.w3.org/2000/svg\" height=\"24px\"viewBox=\"0 0 24 24\"\n",
              "       width=\"24px\">\n",
              "    <path d=\"M0 0h24v24H0V0z\" fill=\"none\"/>\n",
              "    <path d=\"M18.56 5.44l.94 2.06.94-2.06 2.06-.94-2.06-.94-.94-2.06-.94 2.06-2.06.94zm-11 1L8.5 8.5l.94-2.06 2.06-.94-2.06-.94L8.5 2.5l-.94 2.06-2.06.94zm10 10l.94 2.06.94-2.06 2.06-.94-2.06-.94-.94-2.06-.94 2.06-2.06.94z\"/><path d=\"M17.41 7.96l-1.37-1.37c-.4-.4-.92-.59-1.43-.59-.52 0-1.04.2-1.43.59L10.3 9.45l-7.72 7.72c-.78.78-.78 2.05 0 2.83L4 21.41c.39.39.9.59 1.41.59.51 0 1.02-.2 1.41-.59l7.78-7.78 2.81-2.81c.8-.78.8-2.07 0-2.86zM5.41 20L4 18.59l7.72-7.72 1.47 1.35L5.41 20z\"/>\n",
              "  </svg>\n",
              "      </button>\n",
              "      \n",
              "  <style>\n",
              "    .colab-df-container {\n",
              "      display:flex;\n",
              "      flex-wrap:wrap;\n",
              "      gap: 12px;\n",
              "    }\n",
              "\n",
              "    .colab-df-convert {\n",
              "      background-color: #E8F0FE;\n",
              "      border: none;\n",
              "      border-radius: 50%;\n",
              "      cursor: pointer;\n",
              "      display: none;\n",
              "      fill: #1967D2;\n",
              "      height: 32px;\n",
              "      padding: 0 0 0 0;\n",
              "      width: 32px;\n",
              "    }\n",
              "\n",
              "    .colab-df-convert:hover {\n",
              "      background-color: #E2EBFA;\n",
              "      box-shadow: 0px 1px 2px rgba(60, 64, 67, 0.3), 0px 1px 3px 1px rgba(60, 64, 67, 0.15);\n",
              "      fill: #174EA6;\n",
              "    }\n",
              "\n",
              "    [theme=dark] .colab-df-convert {\n",
              "      background-color: #3B4455;\n",
              "      fill: #D2E3FC;\n",
              "    }\n",
              "\n",
              "    [theme=dark] .colab-df-convert:hover {\n",
              "      background-color: #434B5C;\n",
              "      box-shadow: 0px 1px 3px 1px rgba(0, 0, 0, 0.15);\n",
              "      filter: drop-shadow(0px 1px 2px rgba(0, 0, 0, 0.3));\n",
              "      fill: #FFFFFF;\n",
              "    }\n",
              "  </style>\n",
              "\n",
              "      <script>\n",
              "        const buttonEl =\n",
              "          document.querySelector('#df-11afbdc9-c9b3-4103-90f4-d50268e4f050 button.colab-df-convert');\n",
              "        buttonEl.style.display =\n",
              "          google.colab.kernel.accessAllowed ? 'block' : 'none';\n",
              "\n",
              "        async function convertToInteractive(key) {\n",
              "          const element = document.querySelector('#df-11afbdc9-c9b3-4103-90f4-d50268e4f050');\n",
              "          const dataTable =\n",
              "            await google.colab.kernel.invokeFunction('convertToInteractive',\n",
              "                                                     [key], {});\n",
              "          if (!dataTable) return;\n",
              "\n",
              "          const docLinkHtml = 'Like what you see? Visit the ' +\n",
              "            '<a target=\"_blank\" href=https://colab.research.google.com/notebooks/data_table.ipynb>data table notebook</a>'\n",
              "            + ' to learn more about interactive tables.';\n",
              "          element.innerHTML = '';\n",
              "          dataTable['output_type'] = 'display_data';\n",
              "          await google.colab.output.renderOutput(dataTable, element);\n",
              "          const docLink = document.createElement('div');\n",
              "          docLink.innerHTML = docLinkHtml;\n",
              "          element.appendChild(docLink);\n",
              "        }\n",
              "      </script>\n",
              "    </div>\n",
              "  </div>\n",
              "  "
            ]
          },
          "metadata": {},
          "execution_count": 31
        }
      ],
      "source": [
        "df.corr()"
      ]
    },
    {
      "cell_type": "code",
      "execution_count": null,
      "id": "96fe20e9",
      "metadata": {
        "id": "96fe20e9",
        "outputId": "7e4f3c8d-f5ab-4a45-f96b-72c438b0c9be",
        "colab": {
          "base_uri": "https://localhost:8080/",
          "height": 672
        }
      },
      "outputs": [
        {
          "output_type": "display_data",
          "data": {
            "text/plain": [
              "<Figure size 1008x720 with 2 Axes>"
            ],
            "image/png": "[encoded data removed]"
          },
          "metadata": {
            "needs_background": "light"
          }
        }
      ],
      "source": [
        "plt.figure(figsize=(14,10))\n",
        "sns.heatmap(df.corr(), annot=True)\n",
        "plt.show()"
      ]
    },
    {
      "cell_type": "code",
      "source": [
        "from sklearn.cluster import KMeans"
      ],
      "metadata": {
        "id": "HNohaSXNOghH"
      },
      "id": "HNohaSXNOghH",
      "execution_count": null,
      "outputs": []
    },
    {
      "cell_type": "code",
      "execution_count": null,
      "id": "ae810928",
      "metadata": {
        "id": "ae810928",
        "outputId": "68663954-9064-4ffd-b9ce-9bdf68a6fdb6",
        "colab": {
          "base_uri": "https://localhost:8080/",
          "height": 345
        }
      },
      "outputs": [
        {
          "output_type": "display_data",
          "data": {
            "text/plain": [
              "<Figure size 1080x360 with 1 Axes>"
            ],
            "image/png": "[encoded data removed]"
          },
          "metadata": {
            "needs_background": "light"
          }
        }
      ],
      "source": [
        "wcss = []\n",
        "data_model = df.drop(['Brand','Model','RapidCharge'],axis=1)\n",
        "for k in range(1,15):\n",
        "    kmeans = KMeans(n_clusters=k)\n",
        "    kmeans.fit(data_model)\n",
        "    wcss.append(kmeans.inertia_)\n",
        "\n",
        "# the best value is elbow value. It's 3.\n",
        "plt.figure(figsize=(15,5))\n",
        "plt.plot(range(1,15),wcss)\n",
        "plt.xlabel(\"number of k (cluster) value\")\n",
        "plt.ylabel(\"wcss\")\n",
        "plt.show()"
      ]
    },
    {
      "cell_type": "code",
      "execution_count": null,
      "id": "f10442cc",
      "metadata": {
        "id": "f10442cc",
        "outputId": "f35dda81-4e3b-4f48-9583-743c5e049995",
        "colab": {
          "base_uri": "https://localhost:8080/",
          "height": 606
        }
      },
      "outputs": [
        {
          "output_type": "display_data",
          "data": {
            "text/plain": [
              "<Figure size 1080x720 with 1 Axes>"
            ],
            "image/png": "[encoded data removed]"
          },
          "metadata": {
            "needs_background": "light"
          }
        }
      ],
      "source": [
        "kmeans = KMeans(n_clusters=3)\n",
        "data_predict = kmeans.fit_predict(data_model)\n",
        "\n",
        "plt.figure(figsize=(15,10))\n",
        "plt.scatter( x = 'Efficiency_WhKm' ,y = 'PriceEuro' , data = data_model , c = data_predict , s = 200 )\n",
        "plt.xlabel(\"Efficiency_WhKm\")\n",
        "plt.ylabel(\"PriceEuro\")\n",
        "plt.show()"
      ]
    },
    {
      "cell_type": "code",
      "execution_count": null,
      "id": "0ed95883",
      "metadata": {
        "id": "0ed95883",
        "outputId": "8245f239-573d-4979-a7bc-0a405270ef18",
        "colab": {
          "base_uri": "https://localhost:8080/",
          "height": 743
        }
      },
      "outputs": [
        {
          "output_type": "display_data",
          "data": {
            "text/plain": [
              "<Figure size 1800x1080 with 1 Axes>"
            ],
            "image/png": "[encoded data removed]"
          },
          "metadata": {
            "needs_background": "light"
          }
        }
      ],
      "source": [
        "from scipy.cluster.hierarchy import linkage, dendrogram\n",
        "#create demogram and find the best clustering value\n",
        "merg = linkage(data_model,method=\"ward\")\n",
        "plt.figure(figsize=(25,15))\n",
        "dendrogram(merg,leaf_rotation = 90)\n",
        "plt.xlabel(\"data points\")\n",
        "plt.ylabel(\"euclidean distance\")\n",
        "plt.show()"
      ]
    },
    {
      "cell_type": "code",
      "execution_count": null,
      "id": "52130564",
      "metadata": {
        "id": "52130564",
        "colab": {
          "base_uri": "https://localhost:8080/",
          "height": 592
        },
        "outputId": "7b143320-caf7-4413-899d-016fb05f7535"
      },
      "outputs": [
        {
          "output_type": "display_data",
          "data": {
            "text/plain": [
              "<Figure size 1080x720 with 1 Axes>"
            ],
            "image/png": "[encoded data removed]"
          },
          "metadata": {
            "needs_background": "light"
          }
        }
      ],
      "source": [
        "from sklearn.cluster import AgglomerativeClustering\n",
        "#create model\n",
        "hiyerartical_cluster = AgglomerativeClustering(n_clusters = 3,affinity= \"euclidean\",linkage = \"ward\")\n",
        "data_predict = hiyerartical_cluster.fit_predict(data_model)\n",
        "plt.figure(figsize=(15,10))\n",
        "plt.scatter( x = 'Efficiency_WhKm' ,y = 'PriceEuro' , data = data_model , c = data_predict , s = 200 )\n",
        "plt.show()"
      ]
    },
    {
      "cell_type": "code",
      "source": [
        "# Arnav Sharma----->"
      ],
      "metadata": {
        "id": "I73Pwh0ViDPz"
      },
      "id": "I73Pwh0ViDPz",
      "execution_count": null,
      "outputs": []
    },
    {
      "cell_type": "code",
      "source": [
        "model_5_clusters = KMeans(n_clusters=3)\n",
        "label_5 = model_5_clusters.fit_predict(data_model[['Efficiency_WhKm', \n",
        "                                           'PriceEuro']])"
      ],
      "metadata": {
        "id": "kjdqZkirdZkH"
      },
      "id": "kjdqZkirdZkH",
      "execution_count": null,
      "outputs": []
    },
    {
      "cell_type": "code",
      "execution_count": null,
      "id": "4c853e49",
      "metadata": {
        "id": "4c853e49",
        "colab": {
          "base_uri": "https://localhost:8080/",
          "height": 206
        },
        "outputId": "ee3e6ac3-fca0-414d-9a98-6190114520e2"
      },
      "outputs": [
        {
          "output_type": "execute_result",
          "data": {
            "text/plain": [
              "   AccelSec  TopSpeed_KmH  Range_Km  Efficiency_WhKm  FastCharge_KmH  \\\n",
              "0       4.6           233       450              161             940   \n",
              "1      10.0           160       270              167             250   \n",
              "2       4.7           210       400              181             620   \n",
              "3       6.8           180       360              206             560   \n",
              "4       9.5           145       170              168             190   \n",
              "\n",
              "   PowerTrain  PlugType  BodyStyle  Segment  Seats  PriceEuro  \n",
              "0           0         2          7        3      5      55480  \n",
              "1           2         2          1        2      5      30000  \n",
              "2           0         2          2        3      5      56440  \n",
              "3           2         2          6        3      5      68040  \n",
              "4           2         2          1        1      4      32997  "
            ],
            "text/html": [
              "\n",
              "  <div id=\"df-66f3edfe-278b-4191-bd8a-c4159b9b556d\">\n",
              "    <div class=\"colab-df-container\">\n",
              "      <div>\n",
              "<style scoped>\n",
              "    .dataframe tbody tr th:only-of-type {\n",
              "        vertical-align: middle;\n",
              "    }\n",
              "\n",
              "    .dataframe tbody tr th {\n",
              "        vertical-align: top;\n",
              "    }\n",
              "\n",
              "    .dataframe thead th {\n",
              "        text-align: right;\n",
              "    }\n",
              "</style>\n",
              "<table border=\"1\" class=\"dataframe\">\n",
              "  <thead>\n",
              "    <tr style=\"text-align: right;\">\n",
              "      <th></th>\n",
              "      <th>AccelSec</th>\n",
              "      <th>TopSpeed_KmH</th>\n",
              "      <th>Range_Km</th>\n",
              "      <th>Efficiency_WhKm</th>\n",
              "      <th>FastCharge_KmH</th>\n",
              "      <th>PowerTrain</th>\n",
              "      <th>PlugType</th>\n",
              "      <th>BodyStyle</th>\n",
              "      <th>Segment</th>\n",
              "      <th>Seats</th>\n",
              "      <th>PriceEuro</th>\n",
              "    </tr>\n",
              "  </thead>\n",
              "  <tbody>\n",
              "    <tr>\n",
              "      <th>0</th>\n",
              "      <td>4.6</td>\n",
              "      <td>233</td>\n",
              "      <td>450</td>\n",
              "      <td>161</td>\n",
              "      <td>940</td>\n",
              "      <td>0</td>\n",
              "      <td>2</td>\n",
              "      <td>7</td>\n",
              "      <td>3</td>\n",
              "      <td>5</td>\n",
              "      <td>55480</td>\n",
              "    </tr>\n",
              "    <tr>\n",
              "      <th>1</th>\n",
              "      <td>10.0</td>\n",
              "      <td>160</td>\n",
              "      <td>270</td>\n",
              "      <td>167</td>\n",
              "      <td>250</td>\n",
              "      <td>2</td>\n",
              "      <td>2</td>\n",
              "      <td>1</td>\n",
              "      <td>2</td>\n",
              "      <td>5</td>\n",
              "      <td>30000</td>\n",
              "    </tr>\n",
              "    <tr>\n",
              "      <th>2</th>\n",
              "      <td>4.7</td>\n",
              "      <td>210</td>\n",
              "      <td>400</td>\n",
              "      <td>181</td>\n",
              "      <td>620</td>\n",
              "      <td>0</td>\n",
              "      <td>2</td>\n",
              "      <td>2</td>\n",
              "      <td>3</td>\n",
              "      <td>5</td>\n",
              "      <td>56440</td>\n",
              "    </tr>\n",
              "    <tr>\n",
              "      <th>3</th>\n",
              "      <td>6.8</td>\n",
              "      <td>180</td>\n",
              "      <td>360</td>\n",
              "      <td>206</td>\n",
              "      <td>560</td>\n",
              "      <td>2</td>\n",
              "      <td>2</td>\n",
              "      <td>6</td>\n",
              "      <td>3</td>\n",
              "      <td>5</td>\n",
              "      <td>68040</td>\n",
              "    </tr>\n",
              "    <tr>\n",
              "      <th>4</th>\n",
              "      <td>9.5</td>\n",
              "      <td>145</td>\n",
              "      <td>170</td>\n",
              "      <td>168</td>\n",
              "      <td>190</td>\n",
              "      <td>2</td>\n",
              "      <td>2</td>\n",
              "      <td>1</td>\n",
              "      <td>1</td>\n",
              "      <td>4</td>\n",
              "      <td>32997</td>\n",
              "    </tr>\n",
              "  </tbody>\n",
              "</table>\n",
              "</div>\n",
              "      <button class=\"colab-df-convert\" onclick=\"convertToInteractive('df-66f3edfe-278b-4191-bd8a-c4159b9b556d')\"\n",
              "              title=\"Convert this dataframe to an interactive table.\"\n",
              "              style=\"display:none;\">\n",
              "        \n",
              "  <svg xmlns=\"http://www.w3.org/2000/svg\" height=\"24px\"viewBox=\"0 0 24 24\"\n",
              "       width=\"24px\">\n",
              "    <path d=\"M0 0h24v24H0V0z\" fill=\"none\"/>\n",
              "    <path d=\"M18.56 5.44l.94 2.06.94-2.06 2.06-.94-2.06-.94-.94-2.06-.94 2.06-2.06.94zm-11 1L8.5 8.5l.94-2.06 2.06-.94-2.06-.94L8.5 2.5l-.94 2.06-2.06.94zm10 10l.94 2.06.94-2.06 2.06-.94-2.06-.94-.94-2.06-.94 2.06-2.06.94z\"/><path d=\"M17.41 7.96l-1.37-1.37c-.4-.4-.92-.59-1.43-.59-.52 0-1.04.2-1.43.59L10.3 9.45l-7.72 7.72c-.78.78-.78 2.05 0 2.83L4 21.41c.39.39.9.59 1.41.59.51 0 1.02-.2 1.41-.59l7.78-7.78 2.81-2.81c.8-.78.8-2.07 0-2.86zM5.41 20L4 18.59l7.72-7.72 1.47 1.35L5.41 20z\"/>\n",
              "  </svg>\n",
              "      </button>\n",
              "      \n",
              "  <style>\n",
              "    .colab-df-container {\n",
              "      display:flex;\n",
              "      flex-wrap:wrap;\n",
              "      gap: 12px;\n",
              "    }\n",
              "\n",
              "    .colab-df-convert {\n",
              "      background-color: #E8F0FE;\n",
              "      border: none;\n",
              "      border-radius: 50%;\n",
              "      cursor: pointer;\n",
              "      display: none;\n",
              "      fill: #1967D2;\n",
              "      height: 32px;\n",
              "      padding: 0 0 0 0;\n",
              "      width: 32px;\n",
              "    }\n",
              "\n",
              "    .colab-df-convert:hover {\n",
              "      background-color: #E2EBFA;\n",
              "      box-shadow: 0px 1px 2px rgba(60, 64, 67, 0.3), 0px 1px 3px 1px rgba(60, 64, 67, 0.15);\n",
              "      fill: #174EA6;\n",
              "    }\n",
              "\n",
              "    [theme=dark] .colab-df-convert {\n",
              "      background-color: #3B4455;\n",
              "      fill: #D2E3FC;\n",
              "    }\n",
              "\n",
              "    [theme=dark] .colab-df-convert:hover {\n",
              "      background-color: #434B5C;\n",
              "      box-shadow: 0px 1px 3px 1px rgba(0, 0, 0, 0.15);\n",
              "      filter: drop-shadow(0px 1px 2px rgba(0, 0, 0, 0.3));\n",
              "      fill: #FFFFFF;\n",
              "    }\n",
              "  </style>\n",
              "\n",
              "      <script>\n",
              "        const buttonEl =\n",
              "          document.querySelector('#df-66f3edfe-278b-4191-bd8a-c4159b9b556d button.colab-df-convert');\n",
              "        buttonEl.style.display =\n",
              "          google.colab.kernel.accessAllowed ? 'block' : 'none';\n",
              "\n",
              "        async function convertToInteractive(key) {\n",
              "          const element = document.querySelector('#df-66f3edfe-278b-4191-bd8a-c4159b9b556d');\n",
              "          const dataTable =\n",
              "            await google.colab.kernel.invokeFunction('convertToInteractive',\n",
              "                                                     [key], {});\n",
              "          if (!dataTable) return;\n",
              "\n",
              "          const docLinkHtml = 'Like what you see? Visit the ' +\n",
              "            '<a target=\"_blank\" href=https://colab.research.google.com/notebooks/data_table.ipynb>data table notebook</a>'\n",
              "            + ' to learn more about interactive tables.';\n",
              "          element.innerHTML = '';\n",
              "          dataTable['output_type'] = 'display_data';\n",
              "          await google.colab.output.renderOutput(dataTable, element);\n",
              "          const docLink = document.createElement('div');\n",
              "          docLink.innerHTML = docLinkHtml;\n",
              "          element.appendChild(docLink);\n",
              "        }\n",
              "      </script>\n",
              "    </div>\n",
              "  </div>\n",
              "  "
            ]
          },
          "metadata": {},
          "execution_count": 38
        }
      ],
      "source": [
        "data_model.head()"
      ]
    },
    {
      "cell_type": "code",
      "source": [
        "fig = plt.figure(figsize=(10,8))\n",
        "plt.scatter(data_model.Efficiency_WhKm, data_model.PriceEuro, c=label_5, cmap='gnuplot')\n",
        "plt.title('Clustering Results: efficiency  vs price')\n",
        "plt.xlabel('efficiency')\n",
        "plt.ylabel('price')\n",
        "plt.show()"
      ],
      "metadata": {
        "colab": {
          "base_uri": "https://localhost:8080/",
          "height": 513
        },
        "id": "sLPKSWAPeegz",
        "outputId": "0931bfdf-9276-40df-b5e8-d839498ce3b2"
      },
      "id": "sLPKSWAPeegz",
      "execution_count": null,
      "outputs": [
        {
          "output_type": "display_data",
          "data": {
            "text/plain": [
              "<Figure size 720x576 with 1 Axes>"
            ],
            "image/png": "[encoded data removed]"
          },
          "metadata": {
            "needs_background": "light"
          }
        }
      ]
    },
    {
      "cell_type": "code",
      "source": [
        "fig = plt.figure(figsize=(10,8))\n",
        "plt.scatter(data_model.TopSpeed_KmH, data_model.PriceEuro, c=label_5, cmap='gnuplot')\n",
        "plt.title('Clustering Results: speed  vs price')\n",
        "plt.xlabel('speed')\n",
        "plt.ylabel('price')\n",
        "plt.show()"
      ],
      "metadata": {
        "colab": {
          "base_uri": "https://localhost:8080/",
          "height": 513
        },
        "id": "To0ysIEmgXZN",
        "outputId": "7ae98428-eb48-41fb-cc5d-056df43f3c88"
      },
      "id": "To0ysIEmgXZN",
      "execution_count": null,
      "outputs": [
        {
          "output_type": "display_data",
          "data": {
            "text/plain": [
              "<Figure size 720x576 with 1 Axes>"
            ],
            "image/png": "[encoded data removed]"
          },
          "metadata": {
            "needs_background": "light"
          }
        }
      ]
    }
  ],
  "metadata": {
    "kernelspec": {
      "display_name": "Python 3 (ipykernel)",
      "language": "python",
      "name": "python3"
    },
    "language_info": {
      "codemirror_mode": {
        "name": "ipython",
        "version": 3
      },
      "file_extension": ".py",
      "mimetype": "text/x-python",
      "name": "python",
      "nbconvert_exporter": "python",
      "pygments_lexer": "ipython3",
      "version": "3.9.12"
    },
    "colab": {
      "provenance": []
    }
  },
  "nbformat": 4,
  "nbformat_minor": 5
}